{
  "cells": [
    {
      "cell_type": "code",
      "execution_count": null,
      "metadata": {
        "id": "slvSxUJy2kPy"
      },
      "outputs": [],
      "source": [
        "import pandas as pd\n",
        "import matplotlib.pyplot as plt\n",
        "from datetime import datetime\n",
        "import numpy as np\n",
        "from sklearn.linear_model import LinearRegression"
      ]
    },
    {
      "cell_type": "code",
      "execution_count": null,
      "metadata": {
        "id": "kAilZy7S2m5V"
      },
      "outputs": [],
      "source": [
        "df = pd.read_csv(\"/content/drive/MyDrive/praca dyplomowa/chart.csv\")\n",
        "df.set_index('ID',inplace=True)"
      ]
    },
    {
      "cell_type": "code",
      "execution_count": null,
      "metadata": {
        "id": "8YccoLeV2ynq"
      },
      "outputs": [],
      "source": [
        "dump = df.loc[(df[\"TIMESTAMP\"]>=\"2022-12-15 16:03:31\") & (df[\"TIMESTAMP\"]<=\"2022-12-15 16:13:38\")]"
      ]
    },
    {
      "cell_type": "code",
      "execution_count": null,
      "metadata": {
        "id": "1iFDEyMy3On5"
      },
      "outputs": [],
      "source": [
        "dump = dump[[\"LOAD_VOLT [V] \",\"TIMESTAMP\"]]"
      ]
    },
    {
      "cell_type": "code",
      "execution_count": null,
      "metadata": {
        "id": "K2LG9eKp3Rff"
      },
      "outputs": [],
      "source": [
        "y = dump['LOAD_VOLT [V] ']\n",
        "x = dump['TIMESTAMP']"
      ]
    },
    {
      "cell_type": "code",
      "execution_count": null,
      "metadata": {
        "id": "g9H6YcHa3v6_"
      },
      "outputs": [],
      "source": [
        "y = y.to_numpy()\n",
        "x = x.to_numpy()"
      ]
    },
    {
      "cell_type": "code",
      "execution_count": null,
      "metadata": {
        "id": "_nXot5-I3xhQ"
      },
      "outputs": [],
      "source": [
        "x = [datetime.strptime(date_string, \"%Y-%m-%d %H:%M:%S\").timestamp() for date_string in x]\n",
        "moment_0 = x[0]\n",
        "x = [i - moment_0 for i in x]"
      ]
    },
    {
      "cell_type": "code",
      "execution_count": null,
      "metadata": {
        "id": "zz3SBcyL36x_"
      },
      "outputs": [],
      "source": [
        "model = LinearRegression()\n",
        "x_re = np.array(x).reshape(-1, 1)\n",
        "reg = model.fit(x_re, y)\n",
        "x_pred = x_re\n",
        "y_pred = model.predict(x_pred)"
      ]
    },
    {
      "cell_type": "code",
      "execution_count": null,
      "metadata": {
        "colab": {
          "base_uri": "https://localhost:8080/",
          "height": 421
        },
        "id": "YoihQIr_3-Bx",
        "outputId": "177aa7e0-baad-4a23-80ea-fd90351d9f61"
      },
      "outputs": [
        {
          "output_type": "stream",
          "name": "stdout",
          "text": [
            "y = 0.00x + 1.02\n"
          ]
        },
        {
          "output_type": "display_data",
          "data": {
            "text/plain": [
              "<Figure size 720x432 with 2 Axes>"
            ],
            "image/png": "[encoded data removed]"
          },
          "metadata": {
            "needs_background": "light"
          }
        }
      ],
      "source": [
        "fig,ax = plt.subplots(figsize=(10,6))\n",
        "scatter = ax.scatter(x,y,c=y, label='Pomiary')\n",
        "ax.set_title('Bez algorytmu śledzącego')\n",
        "ax.set_xlabel('Czas [s]')\n",
        "ax.set_ylabel('Moc [mW]')\n",
        "ax.set_ylim(0,1.5)\n",
        "fig.colorbar(scatter)\n",
        "plt.plot(x_pred, y_pred, color='red',label='Linia trendu')\n",
        "text = f'y = {reg.coef_[0]:.2f}x + {reg.intercept_:.2f}'\n",
        "print(text)\n",
        "plt.legend()\n",
        "plt.savefig('no_mppt.png', dpi=300)\n",
        "plt.show()"
      ]
    },
    {
      "cell_type": "code",
      "execution_count": null,
      "metadata": {
        "colab": {
          "base_uri": "https://localhost:8080/"
        },
        "id": "wTJfNInkRa_j",
        "outputId": "d23e1722-af6b-405a-eb46-9cc10a965cd9"
      },
      "outputs": [
        {
          "output_type": "stream",
          "name": "stdout",
          "text": [
            "area_trap=37.158 Ws\n",
            "area_mid=37.158 Ws\n",
            "area_simpson=38.024 Ws\n"
          ]
        }
      ],
      "source": [
        "#trapezoidal rule\n",
        "area_trap = 0 \n",
        "for i in range(1,len(x)):\n",
        "  area_trap += (x[i] - x[i-1]) * (y[i] + y[i-1]) /2\n",
        "area_trap /= 1000\n",
        "print(f\"{area_trap=} Ws\")\n",
        "#mid point rule\n",
        "area_mid = 0\n",
        "for i in range(0,len(x)-1):\n",
        "  area_mid += (x[i+1] - x[i]) * (y[i] + y[i+1]) /2\n",
        "area_mid /= 1000 \n",
        "print(f\"{area_mid=} Ws\")\n",
        "#simpson rule\n",
        "area_simpson =0\n",
        "for i in range(0,len(x)-2,2):\n",
        "  area_simpson +=  (x[i+2] - x[i]) * (y[i] + 4*y[i+1] + y[i+2]) / 6\n",
        "area_simpson /= 1000\n",
        "print(f\"{area_simpson=:.3f} Ws\")"
      ]
    }
  ],
  "metadata": {
    "colab": {
      "provenance": [],
      "mount_file_id": "1IAX6db22IjLAQotieyQD7vK5XeOjqBqR",
      "authorship_tag": "ABX9TyPncl4FjWIIaUpXVVaXIa3R"
    },
    "kernelspec": {
      "display_name": "Python 3",
      "name": "python3"
    },
    "language_info": {
      "name": "python"
    }
  },
  "nbformat": 4,
  "nbformat_minor": 0
}
